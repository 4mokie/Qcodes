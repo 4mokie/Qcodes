{
 "cells": [
  {
   "cell_type": "markdown",
   "metadata": {},
   "source": [
    "# Terminology:\n",
    "\n",
    "- An **experiment** is a (possibly long-lived) sequence of measurements, captured in many DataSets, performed on a single sample, in a single fridge. The user tells us when a new experiment is started. Experiments have a (user-provided) name.\n",
    "- A **run** is a single sweep or other measurement, with its **results** captured in a single **DataSet**. Every run is part of an experiment; most experiments contain many runs. Runs have a (system-assigned counter) number within the experiment."
   ]
  },
  {
   "cell_type": "code",
   "execution_count": 27,
   "metadata": {
    "collapsed": true
   },
   "outputs": [],
   "source": [
    "from new_exp import *"
   ]
  },
  {
   "cell_type": "markdown",
   "metadata": {},
   "source": [
    "Connect  to a db on disk."
   ]
  },
  {
   "cell_type": "code",
   "execution_count": 28,
   "metadata": {
    "collapsed": true
   },
   "outputs": [],
   "source": [
    "conn.close()"
   ]
  },
  {
   "cell_type": "code",
   "execution_count": 29,
   "metadata": {
    "collapsed": true
   },
   "outputs": [],
   "source": [
    "conn = connect(db)"
   ]
  },
  {
   "cell_type": "markdown",
   "metadata": {},
   "source": [
    "Create an experiment, one can have multiple sample names per experiment (if needed)"
   ]
  },
  {
   "cell_type": "code",
   "execution_count": 30,
   "metadata": {},
   "outputs": [],
   "source": [
    "exp_name = \"majo qbit\"\n",
    "sample = \"suspended bridge\"\n",
    "exp_id = new_experiment(conn, exp_name, sample)"
   ]
  },
  {
   "cell_type": "markdown",
   "metadata": {},
   "source": [
    "##  ParamSpec\n",
    "\n",
    "Light weight objects that translates the information of a parameter (qcodes) to sql.\n",
    "Anything can be made into a parameter."
   ]
  },
  {
   "cell_type": "markdown",
   "metadata": {},
   "source": [
    "### note \n",
    "sqlite is dynamically typed hence the following type declaration does not generate runtime errors if one puts a stirng inside the DB"
   ]
  },
  {
   "cell_type": "code",
   "execution_count": 31,
   "metadata": {
    "collapsed": true
   },
   "outputs": [],
   "source": [
    "parameter_a = ParamSpec(\"a\", \"INTEGER\")\n",
    "# metadata with key=\"value\", and number=1\n",
    "parameter_b = ParamSpec(\"b\", \"INTEGER\", key=\"value\", number=1)"
   ]
  },
  {
   "cell_type": "markdown",
   "metadata": {},
   "source": [
    "## Run and  DataSet \n",
    "\n",
    "A DataSet is the runtime object that maps to a run in the database.\n",
    "\n",
    "A run in the database is a row in the runs table, and a table with an unique name.\n",
    "\n",
    "By default we use a `{}-{}-{}` formatter, but we may extend it using the qcodes location thing.\n"
   ]
  },
  {
   "cell_type": "code",
   "execution_count": 32,
   "metadata": {},
   "outputs": [],
   "source": [
    "data_set_id, data_set_name = create_run(conn, last_experiment(conn), \"sweep\",\n",
    "                                        parameter_a, parameter_b,\n",
    "                                        metadata={\"key\": \"value\"})"
   ]
  },
  {
   "cell_type": "code",
   "execution_count": 33,
   "metadata": {},
   "outputs": [],
   "source": [
    "data_set_id, data_set_name = create_run(conn, last_experiment(conn), \"sweep\",\n",
    "                                        parameter_a, parameter_b,\n",
    "                                        metadata={\"key\": \"value\"})"
   ]
  },
  {
   "cell_type": "code",
   "execution_count": 34,
   "metadata": {},
   "outputs": [],
   "source": [
    "# can add metadata\n",
    "add_meta_data(conn, data_set_id, {\"hostname\": socket.gethostname()})\n",
    "# cann add new parameter: an array\n",
    "parameter_c = ParamSpec(\"c\", \"array\")\n",
    "add_parameter(conn, data_set_name, parameter_c)"
   ]
  },
  {
   "cell_type": "code",
   "execution_count": 35,
   "metadata": {
    "scrolled": true
   },
   "outputs": [
    {
     "name": "stdout",
     "output_type": "stream",
     "text": [
      "modified 1 rows\n",
      "modified 1 rows\n",
      "modified 1 rows\n",
      "modified 1 rows\n",
      "modified 1 rows\n",
      "modified 1 rows\n",
      "modified 1 rows\n",
      "modified 1 rows\n",
      "modified 1 rows\n",
      "modified 1 rows\n",
      "modified 1 rows\n",
      "modified 1 rows\n",
      "modified 1 rows\n",
      "modified 1 rows\n",
      "modified 1 rows\n",
      "modified 1 rows\n",
      "modified 1 rows\n",
      "modified 1 rows\n",
      "modified 1 rows\n",
      "modified 1 rows\n",
      "modified 1 rows\n",
      "modified 1 rows\n",
      "modified 1 rows\n",
      "modified 1 rows\n",
      "modified 1 rows\n",
      "modified 1 rows\n",
      "modified 1 rows\n",
      "modified 1 rows\n",
      "modified 1 rows\n",
      "modified 1 rows\n",
      "modified 1 rows\n",
      "modified 1 rows\n",
      "modified 1 rows\n",
      "modified 1 rows\n",
      "modified 1 rows\n",
      "modified 1 rows\n",
      "modified 1 rows\n",
      "modified 1 rows\n",
      "modified 1 rows\n",
      "modified 1 rows\n",
      "modified 1 rows\n",
      "modified 1 rows\n",
      "modified 1 rows\n",
      "modified 1 rows\n",
      "modified 1 rows\n",
      "modified 1 rows\n",
      "modified 1 rows\n",
      "modified 1 rows\n",
      "modified 1 rows\n",
      "modified 1 rows\n",
      "modified 1 rows\n",
      "modified 1 rows\n",
      "modified 1 rows\n",
      "modified 1 rows\n",
      "modified 1 rows\n",
      "modified 1 rows\n",
      "modified 1 rows\n",
      "modified 1 rows\n",
      "modified 1 rows\n",
      "modified 1 rows\n",
      "modified 1 rows\n",
      "modified 1 rows\n",
      "modified 1 rows\n",
      "modified 1 rows\n",
      "modified 1 rows\n",
      "modified 1 rows\n",
      "modified 1 rows\n",
      "modified 1 rows\n",
      "modified 1 rows\n",
      "modified 1 rows\n",
      "modified 1 rows\n",
      "modified 1 rows\n",
      "modified 1 rows\n",
      "modified 1 rows\n",
      "modified 1 rows\n",
      "modified 1 rows\n",
      "modified 1 rows\n",
      "modified 1 rows\n",
      "modified 1 rows\n",
      "modified 1 rows\n",
      "modified 1 rows\n",
      "modified 1 rows\n",
      "modified 1 rows\n",
      "modified 1 rows\n",
      "modified 1 rows\n",
      "modified 1 rows\n",
      "modified 1 rows\n",
      "modified 1 rows\n",
      "modified 1 rows\n",
      "modified 1 rows\n",
      "modified 1 rows\n",
      "modified 1 rows\n",
      "modified 1 rows\n",
      "modified 1 rows\n",
      "modified 1 rows\n",
      "modified 1 rows\n",
      "modified 1 rows\n",
      "modified 1 rows\n",
      "modified 1 rows\n",
      "modified 1 rows\n",
      "modified 1 rows\n",
      "modified 1 rows\n",
      "modified 1 rows\n",
      "modified 1 rows\n",
      "modified 1 rows\n",
      "modified 1 rows\n",
      "modified 1 rows\n",
      "modified 1 rows\n",
      "modified 1 rows\n",
      "modified 1 rows\n",
      "modified 1 rows\n",
      "modified 1 rows\n",
      "modified 1 rows\n",
      "modified 1 rows\n",
      "modified 1 rows\n",
      "modified 1 rows\n",
      "modified 1 rows\n",
      "modified 1 rows\n",
      "modified 1 rows\n",
      "modified 1 rows\n",
      "modified 1 rows\n",
      "modified 1 rows\n",
      "modified 1 rows\n",
      "modified 1 rows\n",
      "modified 1 rows\n",
      "modified 1 rows\n",
      "modified 1 rows\n",
      "modified 1 rows\n",
      "modified 1 rows\n",
      "modified 1 rows\n",
      "modified 1 rows\n",
      "modified 1 rows\n",
      "modified 1 rows\n",
      "modified 1 rows\n",
      "modified 1 rows\n",
      "modified 1 rows\n",
      "modified 1 rows\n",
      "modified 1 rows\n",
      "modified 1 rows\n",
      "modified 1 rows\n",
      "modified 1 rows\n",
      "modified 1 rows\n",
      "modified 1 rows\n",
      "modified 1 rows\n",
      "modified 1 rows\n",
      "modified 1 rows\n",
      "modified 1 rows\n",
      "modified 1 rows\n",
      "modified 1 rows\n",
      "modified 1 rows\n",
      "modified 1 rows\n",
      "modified 1 rows\n",
      "modified 1 rows\n",
      "modified 1 rows\n",
      "modified 1 rows\n",
      "modified 1 rows\n",
      "modified 1 rows\n",
      "modified 1 rows\n",
      "modified 1 rows\n",
      "modified 1 rows\n",
      "modified 1 rows\n",
      "modified 1 rows\n",
      "modified 1 rows\n",
      "modified 1 rows\n",
      "modified 1 rows\n",
      "modified 1 rows\n",
      "modified 1 rows\n",
      "modified 1 rows\n",
      "modified 1 rows\n",
      "modified 1 rows\n",
      "modified 1 rows\n",
      "modified 1 rows\n",
      "modified 1 rows\n",
      "modified 1 rows\n",
      "modified 1 rows\n",
      "modified 1 rows\n",
      "modified 1 rows\n",
      "modified 1 rows\n",
      "modified 1 rows\n",
      "modified 1 rows\n",
      "modified 1 rows\n",
      "modified 1 rows\n",
      "modified 1 rows\n",
      "modified 1 rows\n",
      "modified 1 rows\n",
      "modified 1 rows\n",
      "modified 1 rows\n",
      "modified 1 rows\n",
      "modified 1 rows\n",
      "modified 1 rows\n",
      "modified 1 rows\n",
      "modified 1 rows\n",
      "modified 1 rows\n",
      "modified 1 rows\n",
      "modified 1 rows\n",
      "modified 1 rows\n",
      "modified 1 rows\n",
      "modified 1 rows\n",
      "modified 1 rows\n",
      "modified 1 rows\n"
     ]
    }
   ],
   "source": [
    "for _ in range(100):\n",
    "    insert_values(conn, data_set_name, [parameter_a, parameter_b], [0, 0])\n",
    "    # moar values\n",
    "    insert_many_values(conn, data_set_name, [parameter_a], [[1, 2, 3]])\n",
    "    x = np.arange(100).reshape(10, 10)\n",
    "    insert_values(conn, data_set_name,\n",
    "                  [parameter_a, parameter_b, parameter_c], [0, 0, x])\n",
    "    # now browse the results\n",
    "    get_data(conn, data_set_name, [parameter_a, parameter_c], 4, 5)\n",
    "    # returns a scalar and numpy array\n",
    "    # modify result inplace\n",
    "    p = get_parameters(conn, data_set_name)\n",
    "    rows_modified = modify_values(conn, data_set_name, 0, p, [0]*len(p))\n",
    "    print(f\"modified {rows_modified} rows\")\n",
    "# new dataset!\n",
    "parameter_a = ParamSpec(\"x\", \"INTEGER\")\n",
    "# metadata with key=\"value\", and number=1\n",
    "parameter_b = ParamSpec(\"y\", \"INTEGER\", key=\"value\", number=1)\n",
    "# this would be a new data set\n",
    "data_set_id, data_set_name = create_run(conn, exp_id, \"sweep\",\n",
    "                                        parameter_a, parameter_b,\n",
    "                                        metadata={\"key\": \"value\"})\n",
    "# can add metadata\n",
    "add_meta_data(conn, data_set_id, {\"hostname\": socket.gethostname()})\n",
    "for i in range(100):\n",
    "    insert_values(conn, data_set_name,\n",
    "                  [parameter_a, parameter_b], [i, i*100])\n",
    "    # moar values\n",
    "    insert_many_values(conn, data_set_name, [parameter_a], [[1, 2, 3]])\n",
    "    print(f\"modified {rows_modified} rows\")\n",
    "finish_experiment(conn, exp_id)"
   ]
  },
  {
   "cell_type": "code",
   "execution_count": 40,
   "metadata": {},
   "outputs": [
    {
     "data": {
      "text/plain": [
       "[array([[ 0,  1,  2,  3,  4,  5,  6,  7,  8,  9],\n",
       "        [10, 11, 12, 13, 14, 15, 16, 17, 18, 19],\n",
       "        [20, 21, 22, 23, 24, 25, 26, 27, 28, 29],\n",
       "        [30, 31, 32, 33, 34, 35, 36, 37, 38, 39],\n",
       "        [40, 41, 42, 43, 44, 45, 46, 47, 48, 49],\n",
       "        [50, 51, 52, 53, 54, 55, 56, 57, 58, 59],\n",
       "        [60, 61, 62, 63, 64, 65, 66, 67, 68, 69],\n",
       "        [70, 71, 72, 73, 74, 75, 76, 77, 78, 79],\n",
       "        [80, 81, 82, 83, 84, 85, 86, 87, 88, 89],\n",
       "        [90, 91, 92, 93, 94, 95, 96, 97, 98, 99]])]"
      ]
     },
     "execution_count": 40,
     "metadata": {},
     "output_type": "execute_result"
    }
   ],
   "source": [
    "get_data(conn, \"sweep-1-2\", [parameter_c], start=9, end=10)"
   ]
  },
  {
   "cell_type": "code",
   "execution_count": 41,
   "metadata": {},
   "outputs": [
    {
     "data": {
      "text/plain": [
       "[<new_exp.ParamSpec at 0x10675e3c8>,\n",
       " <new_exp.ParamSpec at 0x105d0e908>,\n",
       " <new_exp.ParamSpec at 0x106744b00>]"
      ]
     },
     "execution_count": 41,
     "metadata": {},
     "output_type": "execute_result"
    }
   ],
   "source": [
    "get_parameters(conn, \"sweep-1-2\")"
   ]
  },
  {
   "cell_type": "code",
   "execution_count": null,
   "metadata": {
    "collapsed": true
   },
   "outputs": [],
   "source": []
  }
 ],
 "metadata": {
  "kernelspec": {
   "display_name": "Python 3",
   "language": "python",
   "name": "python3"
  },
  "language_info": {
   "codemirror_mode": {
    "name": "ipython",
    "version": 3
   },
   "file_extension": ".py",
   "mimetype": "text/x-python",
   "name": "python",
   "nbconvert_exporter": "python",
   "pygments_lexer": "ipython3",
   "version": "3.6.1"
  }
 },
 "nbformat": 4,
 "nbformat_minor": 2
}
