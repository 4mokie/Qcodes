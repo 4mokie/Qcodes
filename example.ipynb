{
 "cells": [
  {
   "cell_type": "markdown",
   "metadata": {},
   "source": [
    "# Terminology:\n",
    "\n",
    "- An **experiment** is a (possibly long-lived) sequence of measurements, captured in many DataSets, performed on a single sample, in a single fridge. The user tells us when a new experiment is started. Experiments have a (user-provided) name.\n",
    "- A **run** is a single sweep or other measurement, with its **results** captured in a single **DataSet**. Every run is part of an experiment; most experiments contain many runs. Runs have a (system-assigned counter) number within the experiment."
   ]
  },
  {
   "cell_type": "code",
   "execution_count": 1,
   "metadata": {
    "collapsed": true
   },
   "outputs": [],
   "source": [
    "from new_exp import *"
   ]
  },
  {
   "cell_type": "markdown",
   "metadata": {},
   "source": [
    "Connect  to a db on disk."
   ]
  },
  {
   "cell_type": "code",
   "execution_count": 2,
   "metadata": {
    "collapsed": true
   },
   "outputs": [],
   "source": [
    "conn = connect(db)"
   ]
  },
  {
   "cell_type": "markdown",
   "metadata": {},
   "source": [
    "Create an experiment, one can have multiple sample names per experiment (if needed)"
   ]
  },
  {
   "cell_type": "code",
   "execution_count": 3,
   "metadata": {
    "collapsed": true
   },
   "outputs": [],
   "source": [
    "exp_name = \"majo qbit\"\n",
    "sample = \"suspended bridge\"\n",
    "exp_id = new_experiment(conn, exp_name, sample)"
   ]
  },
  {
   "cell_type": "markdown",
   "metadata": {},
   "source": [
    "Add metadata or really anything to the experiment table"
   ]
  },
  {
   "cell_type": "code",
   "execution_count": 4,
   "metadata": {
    "collapsed": true
   },
   "outputs": [],
   "source": [
    "add_meta_data(conn, 1,{\"a\":1}, \"experiments\")"
   ]
  },
  {
   "cell_type": "markdown",
   "metadata": {},
   "source": [
    "##  ParamSpec\n",
    "\n",
    "Light weight objects that translates the information of a parameter (qcodes) to sql.\n",
    "Anything can be made into a parameter."
   ]
  },
  {
   "cell_type": "markdown",
   "metadata": {},
   "source": [
    "### note \n",
    "sqlite is dynamically typed hence the following type declaration does not generate runtime errors if one puts a stirng inside the DB"
   ]
  },
  {
   "cell_type": "code",
   "execution_count": 5,
   "metadata": {
    "collapsed": true
   },
   "outputs": [],
   "source": [
    "parameter_a = ParamSpec(\"a\", \"INTEGER\")\n",
    "# metadata with key=\"value\", and number=1\n",
    "parameter_b = ParamSpec(\"b\", \"INTEGER\", key=\"value\", number=1)"
   ]
  },
  {
   "cell_type": "markdown",
   "metadata": {},
   "source": [
    "## Run and  DataSet \n",
    "\n",
    "A DataSet is the runtime object that maps to a run in the database.\n",
    "\n",
    "A run in the database is a row in the runs table, and a table with an unique name.\n",
    "\n",
    "By default we use a `{}-{}-{}` formatter, but we may extend it using the qcodes location thing.\n"
   ]
  },
  {
   "cell_type": "code",
   "execution_count": 6,
   "metadata": {
    "collapsed": true
   },
   "outputs": [],
   "source": [
    "# bare bone completely empty dataset"
   ]
  },
  {
   "cell_type": "code",
   "execution_count": 7,
   "metadata": {
    "collapsed": true
   },
   "outputs": [],
   "source": [
    "data_set_id, data_set_name = create_run(conn, last_experiment(conn), \"sweep\")"
   ]
  },
  {
   "cell_type": "code",
   "execution_count": 8,
   "metadata": {},
   "outputs": [],
   "source": [
    "# add paraemter \n",
    "add_parameter(conn, data_set_name, parameter_b)"
   ]
  },
  {
   "cell_type": "code",
   "execution_count": 9,
   "metadata": {},
   "outputs": [],
   "source": [
    "import socket\n",
    "# can add metadata\n",
    "add_meta_data(conn, data_set_id, {\"hostname\": socket.gethostname()})"
   ]
  },
  {
   "cell_type": "code",
   "execution_count": 10,
   "metadata": {
    "collapsed": true
   },
   "outputs": [],
   "source": [
    "# or all in one\n",
    "data_set_id, data_set_name = create_run(conn, last_experiment(conn), \"sweep\",\n",
    "                                        parameter_a, parameter_b,\n",
    "                                        metadata={\"key\": \"value\"})"
   ]
  },
  {
   "cell_type": "code",
   "execution_count": 11,
   "metadata": {
    "collapsed": true
   },
   "outputs": [],
   "source": [
    "# cann add new parameter: an array\n",
    "parameter_c = ParamSpec(\"c\", \"array\")\n",
    "add_parameter(conn, data_set_name, parameter_c)"
   ]
  },
  {
   "cell_type": "code",
   "execution_count": 12,
   "metadata": {
    "collapsed": true
   },
   "outputs": [],
   "source": [
    "for _ in range(100):\n",
    "    insert_values(conn, data_set_name, [parameter_a, parameter_b], [0, 0])\n",
    "    # moar values\n",
    "    insert_many_values(conn, data_set_name, [parameter_a], [[1, 2, 3]])\n",
    "    x = np.arange(100).reshape(10, 10)\n",
    "    insert_values(conn, data_set_name,\n",
    "                  [parameter_a, parameter_b, parameter_c], [0, 0, x])"
   ]
  },
  {
   "cell_type": "code",
   "execution_count": 13,
   "metadata": {
    "collapsed": true
   },
   "outputs": [],
   "source": [
    "# save!\n",
    "conn.commit()"
   ]
  },
  {
   "cell_type": "code",
   "execution_count": 14,
   "metadata": {
    "collapsed": true
   },
   "outputs": [],
   "source": [
    "# browse"
   ]
  },
  {
   "cell_type": "code",
   "execution_count": 15,
   "metadata": {},
   "outputs": [
    {
     "name": "stdout",
     "output_type": "stream",
     "text": [
      "Automatic pdb calling has been turned ON\n"
     ]
    }
   ],
   "source": [
    "pdb"
   ]
  },
  {
   "cell_type": "code",
   "execution_count": 16,
   "metadata": {},
   "outputs": [
    {
     "data": {
      "text/plain": [
       "[[0, None],\n",
       " [1, None],\n",
       " [2, None],\n",
       " [3, None],\n",
       " [0, array([[ 0,  1,  2,  3,  4,  5,  6,  7,  8,  9],\n",
       "         [10, 11, 12, 13, 14, 15, 16, 17, 18, 19],\n",
       "         [20, 21, 22, 23, 24, 25, 26, 27, 28, 29],\n",
       "         [30, 31, 32, 33, 34, 35, 36, 37, 38, 39],\n",
       "         [40, 41, 42, 43, 44, 45, 46, 47, 48, 49],\n",
       "         [50, 51, 52, 53, 54, 55, 56, 57, 58, 59],\n",
       "         [60, 61, 62, 63, 64, 65, 66, 67, 68, 69],\n",
       "         [70, 71, 72, 73, 74, 75, 76, 77, 78, 79],\n",
       "         [80, 81, 82, 83, 84, 85, 86, 87, 88, 89],\n",
       "         [90, 91, 92, 93, 94, 95, 96, 97, 98, 99]])]]"
      ]
     },
     "execution_count": 16,
     "metadata": {},
     "output_type": "execute_result"
    }
   ],
   "source": [
    "# now browse the results\n",
    "get_data(conn, data_set_name, [parameter_a, parameter_c], 0, 5)"
   ]
  },
  {
   "cell_type": "code",
   "execution_count": 18,
   "metadata": {},
   "outputs": [
    {
     "name": "stdout",
     "output_type": "stream",
     "text": [
      "modified 1 rows\n"
     ]
    }
   ],
   "source": [
    "# modify result inplace\n",
    "p = get_parameters(conn, data_set_name)\n",
    "rows_modified = modify_values(conn, data_set_name, 0, p, [0]*len(p))\n",
    "print(f\"modified {rows_modified} rows\")"
   ]
  },
  {
   "cell_type": "code",
   "execution_count": 21,
   "metadata": {
    "scrolled": false
   },
   "outputs": [],
   "source": [
    "# new dataset!\n",
    "parameter_a = ParamSpec(\"x\", \"INTEGER\")\n",
    "# metadata with key=\"value\", and number=1\n",
    "parameter_b = ParamSpec(\"y\", \"INTEGER\", key=\"value\", number=1)\n",
    "# this would be a new data set\n",
    "data_set_id, data_set_name = create_run(conn, exp_id, \"sweep\",\n",
    "                                        parameter_a, parameter_b,\n",
    "                                        metadata={\"key\": \"value\"})\n",
    "\n",
    "for i in range(100):\n",
    "    # moar values\n",
    "    insert_many_values(conn, data_set_name, [parameter_a], [[1, 2, 3]])\n",
    "\n",
    "finish_experiment(conn, exp_id)"
   ]
  },
  {
   "cell_type": "code",
   "execution_count": 22,
   "metadata": {},
   "outputs": [
    {
     "data": {
      "text/plain": [
       "'sweep-7-5'"
      ]
     },
     "execution_count": 22,
     "metadata": {},
     "output_type": "execute_result"
    }
   ],
   "source": [
    "data_set_name"
   ]
  },
  {
   "cell_type": "code",
   "execution_count": null,
   "metadata": {
    "collapsed": true
   },
   "outputs": [],
   "source": []
  }
 ],
 "metadata": {
  "kernelspec": {
   "display_name": "Python 3",
   "language": "python",
   "name": "python3"
  },
  "language_info": {
   "codemirror_mode": {
    "name": "ipython",
    "version": 3
   },
   "file_extension": ".py",
   "mimetype": "text/x-python",
   "name": "python",
   "nbconvert_exporter": "python",
   "pygments_lexer": "ipython3",
   "version": "3.6.0"
  }
 },
 "nbformat": 4,
 "nbformat_minor": 2
}
