{
 "cells": [
  {
   "cell_type": "code",
   "execution_count": 1,
   "metadata": {},
   "outputs": [
    {
     "name": "stderr",
     "output_type": "stream",
     "text": [
      "WARNING:root:Can't publish logs, did you star the server?\n"
     ]
    },
    {
     "name": "stdout",
     "output_type": "stream",
     "text": [
      "pyqtgraph plotting not supported, try \"from qcodes.plots.pyqtgraph import QtPlot\" to see the full error\n"
     ]
    }
   ],
   "source": [
    "import logging\n",
    "logging.basicConfig(level=\"DEBUG\")\n",
    "from qcodes import Publisher"
   ]
  },
  {
   "cell_type": "code",
   "execution_count": 2,
   "metadata": {
    "collapsed": true
   },
   "outputs": [],
   "source": [
    "from data_set import new_data_set, ParamSpec, DB, hash_from_parts\n",
    "from sqlite_base import new_experiment, connect, length"
   ]
  },
  {
   "cell_type": "code",
   "execution_count": 3,
   "metadata": {
    "collapsed": true
   },
   "outputs": [],
   "source": [
    "logging.basicConfig(level=\"debug\")"
   ]
  },
  {
   "cell_type": "code",
   "execution_count": 4,
   "metadata": {
    "collapsed": true
   },
   "outputs": [],
   "source": [
    "dataSet = new_data_set(\"test\", specs=[ParamSpec(\"x\", \"number\"), ParamSpec(\"y\", \"number\")])"
   ]
  },
  {
   "cell_type": "code",
   "execution_count": 5,
   "metadata": {
    "collapsed": true
   },
   "outputs": [],
   "source": [
    "p = Publisher(dataSet.name)"
   ]
  },
  {
   "cell_type": "code",
   "execution_count": 6,
   "metadata": {
    "collapsed": true
   },
   "outputs": [],
   "source": [
    "def send_all(data, length, state):\n",
    "    p.send({\"data\":data,\"length\":length}.update(state))"
   ]
  },
  {
   "cell_type": "code",
   "execution_count": 7,
   "metadata": {
    "collapsed": true
   },
   "outputs": [],
   "source": [
    "def print_all(data, length, state):\n",
    "    p.send({\"data\":data,\"length\":length}.update(state))"
   ]
  },
  {
   "cell_type": "code",
   "execution_count": 8,
   "metadata": {
    "scrolled": true
   },
   "outputs": [
    {
     "name": "stderr",
     "output_type": "stream",
     "text": [
      "DEBUG:Subscriber 830e32a16bb7d64f94b42bf3db6537770221df40:Starting subscriber\n"
     ]
    }
   ],
   "source": [
    "sub_id = dataSet.subscribe(print_all, min_wait=0, min_count=20, state={\"name\":dataSet.name})"
   ]
  },
  {
   "cell_type": "code",
   "execution_count": 9,
   "metadata": {
    "collapsed": true
   },
   "outputs": [],
   "source": [
    "s = dataSet.subscribers[sub_id]"
   ]
  },
  {
   "cell_type": "code",
   "execution_count": 10,
   "metadata": {
    "scrolled": false
   },
   "outputs": [
    {
     "name": "stderr",
     "output_type": "stream",
     "text": [
      "DEBUG:Subscriber 830e32a16bb7d64f94b42bf3db6537770221df40:callback830e32a16bb7d64f94b42bf3db6537770221df40 called with args:(0, 0)\n",
      "DEBUG:Subscriber 830e32a16bb7d64f94b42bf3db6537770221df40:callback830e32a16bb7d64f94b42bf3db6537770221df40 called with args:(1, 1)\n",
      "DEBUG:Subscriber 830e32a16bb7d64f94b42bf3db6537770221df40:callback830e32a16bb7d64f94b42bf3db6537770221df40 called with args:(2, 2)\n",
      "DEBUG:Subscriber 830e32a16bb7d64f94b42bf3db6537770221df40:callback830e32a16bb7d64f94b42bf3db6537770221df40 called with args:(3, 3)\n",
      "DEBUG:Subscriber 830e32a16bb7d64f94b42bf3db6537770221df40:callback830e32a16bb7d64f94b42bf3db6537770221df40 called with args:(4, 4)\n",
      "DEBUG:Subscriber 830e32a16bb7d64f94b42bf3db6537770221df40:callback830e32a16bb7d64f94b42bf3db6537770221df40 called with args:(5, 5)\n",
      "DEBUG:Subscriber 830e32a16bb7d64f94b42bf3db6537770221df40:callback830e32a16bb7d64f94b42bf3db6537770221df40 called with args:(6, 6)\n",
      "DEBUG:Subscriber 830e32a16bb7d64f94b42bf3db6537770221df40:callback830e32a16bb7d64f94b42bf3db6537770221df40 called with args:(7, 7)\n",
      "DEBUG:Subscriber 830e32a16bb7d64f94b42bf3db6537770221df40:callback830e32a16bb7d64f94b42bf3db6537770221df40 called with args:(8, 8)\n",
      "DEBUG:Subscriber 830e32a16bb7d64f94b42bf3db6537770221df40:callback830e32a16bb7d64f94b42bf3db6537770221df40 called with args:(9, 9)\n",
      "DEBUG:Subscriber 830e32a16bb7d64f94b42bf3db6537770221df40:callback830e32a16bb7d64f94b42bf3db6537770221df40 called with args:(10, 10)\n",
      "DEBUG:Subscriber 830e32a16bb7d64f94b42bf3db6537770221df40:callback830e32a16bb7d64f94b42bf3db6537770221df40 called with args:(11, 11)\n",
      "DEBUG:Subscriber 830e32a16bb7d64f94b42bf3db6537770221df40:callback830e32a16bb7d64f94b42bf3db6537770221df40 called with args:(12, 12)\n",
      "DEBUG:Subscriber 830e32a16bb7d64f94b42bf3db6537770221df40:callback830e32a16bb7d64f94b42bf3db6537770221df40 called with args:(13, 13)\n",
      "DEBUG:Subscriber 830e32a16bb7d64f94b42bf3db6537770221df40:callback830e32a16bb7d64f94b42bf3db6537770221df40 called with args:(14, 14)\n",
      "DEBUG:Subscriber 830e32a16bb7d64f94b42bf3db6537770221df40:callback830e32a16bb7d64f94b42bf3db6537770221df40 called with args:(15, 15)\n",
      "DEBUG:Subscriber 830e32a16bb7d64f94b42bf3db6537770221df40:callback830e32a16bb7d64f94b42bf3db6537770221df40 called with args:(16, 16)\n",
      "DEBUG:Subscriber 830e32a16bb7d64f94b42bf3db6537770221df40:callback830e32a16bb7d64f94b42bf3db6537770221df40 called with args:(17, 17)\n",
      "DEBUG:Subscriber 830e32a16bb7d64f94b42bf3db6537770221df40:callback830e32a16bb7d64f94b42bf3db6537770221df40 called with args:(18, 18)\n",
      "DEBUG:Subscriber 830e32a16bb7d64f94b42bf3db6537770221df40:callback830e32a16bb7d64f94b42bf3db6537770221df40 called with args:(19, 19)\n",
      "DEBUG:Subscriber 830e32a16bb7d64f94b42bf3db6537770221df40:callback830e32a16bb7d64f94b42bf3db6537770221df40 called with args:(20, 20)\n",
      "DEBUG:Subscriber 830e32a16bb7d64f94b42bf3db6537770221df40:callback830e32a16bb7d64f94b42bf3db6537770221df40 called with args:(21, 21)\n",
      "DEBUG:Subscriber 830e32a16bb7d64f94b42bf3db6537770221df40:callback830e32a16bb7d64f94b42bf3db6537770221df40 called with args:(22, 22)\n",
      "DEBUG:Subscriber 830e32a16bb7d64f94b42bf3db6537770221df40:callback830e32a16bb7d64f94b42bf3db6537770221df40 called with args:(23, 23)\n",
      "DEBUG:Subscriber 830e32a16bb7d64f94b42bf3db6537770221df40:callback830e32a16bb7d64f94b42bf3db6537770221df40 called with args:(24, 24)\n",
      "DEBUG:Subscriber 830e32a16bb7d64f94b42bf3db6537770221df40:callback830e32a16bb7d64f94b42bf3db6537770221df40 called with args:(25, 25)\n",
      "DEBUG:Subscriber 830e32a16bb7d64f94b42bf3db6537770221df40:callback830e32a16bb7d64f94b42bf3db6537770221df40 called with args:(26, 26)\n",
      "DEBUG:Subscriber 830e32a16bb7d64f94b42bf3db6537770221df40:callback830e32a16bb7d64f94b42bf3db6537770221df40 called with args:(27, 27)\n",
      "DEBUG:Subscriber 830e32a16bb7d64f94b42bf3db6537770221df40:callback830e32a16bb7d64f94b42bf3db6537770221df40 called with args:(28, 28)\n",
      "DEBUG:Subscriber 830e32a16bb7d64f94b42bf3db6537770221df40:callback830e32a16bb7d64f94b42bf3db6537770221df40 called with args:(29, 29)\n",
      "DEBUG:Subscriber 830e32a16bb7d64f94b42bf3db6537770221df40:callback830e32a16bb7d64f94b42bf3db6537770221df40 called with args:(30, 30)\n",
      "DEBUG:Subscriber 830e32a16bb7d64f94b42bf3db6537770221df40:callback830e32a16bb7d64f94b42bf3db6537770221df40 called with args:(31, 31)\n",
      "DEBUG:Subscriber 830e32a16bb7d64f94b42bf3db6537770221df40:callback830e32a16bb7d64f94b42bf3db6537770221df40 called with args:(32, 32)\n",
      "DEBUG:Subscriber 830e32a16bb7d64f94b42bf3db6537770221df40:callback830e32a16bb7d64f94b42bf3db6537770221df40 called with args:(33, 33)\n",
      "DEBUG:Subscriber 830e32a16bb7d64f94b42bf3db6537770221df40:callback830e32a16bb7d64f94b42bf3db6537770221df40 called with args:(34, 34)\n",
      "DEBUG:Subscriber 830e32a16bb7d64f94b42bf3db6537770221df40:callback830e32a16bb7d64f94b42bf3db6537770221df40 called with args:(35, 35)\n",
      "DEBUG:Subscriber 830e32a16bb7d64f94b42bf3db6537770221df40:callback830e32a16bb7d64f94b42bf3db6537770221df40 called with args:(36, 36)\n",
      "DEBUG:Subscriber 830e32a16bb7d64f94b42bf3db6537770221df40:callback830e32a16bb7d64f94b42bf3db6537770221df40 called with args:(37, 37)\n",
      "DEBUG:Subscriber 830e32a16bb7d64f94b42bf3db6537770221df40:callback830e32a16bb7d64f94b42bf3db6537770221df40 called with args:(38, 38)\n",
      "DEBUG:Subscriber 830e32a16bb7d64f94b42bf3db6537770221df40:callback830e32a16bb7d64f94b42bf3db6537770221df40 called with args:(39, 39)\n",
      "DEBUG:Subscriber 830e32a16bb7d64f94b42bf3db6537770221df40:callback830e32a16bb7d64f94b42bf3db6537770221df40 called with args:(40, 40)\n",
      "DEBUG:Subscriber 830e32a16bb7d64f94b42bf3db6537770221df40:callback830e32a16bb7d64f94b42bf3db6537770221df40 called with args:(41, 41)\n",
      "DEBUG:Subscriber 830e32a16bb7d64f94b42bf3db6537770221df40:callback830e32a16bb7d64f94b42bf3db6537770221df40 called with args:(42, 42)\n",
      "DEBUG:Subscriber 830e32a16bb7d64f94b42bf3db6537770221df40:callback830e32a16bb7d64f94b42bf3db6537770221df40 called with args:(43, 43)\n",
      "DEBUG:Subscriber 830e32a16bb7d64f94b42bf3db6537770221df40:callback830e32a16bb7d64f94b42bf3db6537770221df40 called with args:(44, 44)\n",
      "DEBUG:Subscriber 830e32a16bb7d64f94b42bf3db6537770221df40:callback830e32a16bb7d64f94b42bf3db6537770221df40 called with args:(45, 45)\n",
      "DEBUG:Subscriber 830e32a16bb7d64f94b42bf3db6537770221df40:callback830e32a16bb7d64f94b42bf3db6537770221df40 called with args:(46, 46)\n",
      "DEBUG:Subscriber 830e32a16bb7d64f94b42bf3db6537770221df40:callback830e32a16bb7d64f94b42bf3db6537770221df40 called with args:(47, 47)\n",
      "DEBUG:Subscriber 830e32a16bb7d64f94b42bf3db6537770221df40:callback830e32a16bb7d64f94b42bf3db6537770221df40 called with args:(48, 48)\n",
      "DEBUG:Subscriber 830e32a16bb7d64f94b42bf3db6537770221df40:callback830e32a16bb7d64f94b42bf3db6537770221df40 called with args:(49, 49)\n",
      "DEBUG:Subscriber 830e32a16bb7d64f94b42bf3db6537770221df40:callback830e32a16bb7d64f94b42bf3db6537770221df40 called with args:(50, 50)\n",
      "DEBUG:Subscriber 830e32a16bb7d64f94b42bf3db6537770221df40:callback830e32a16bb7d64f94b42bf3db6537770221df40 called with args:(51, 51)\n",
      "DEBUG:Subscriber 830e32a16bb7d64f94b42bf3db6537770221df40:callback830e32a16bb7d64f94b42bf3db6537770221df40 called with args:(52, 52)\n",
      "DEBUG:Subscriber 830e32a16bb7d64f94b42bf3db6537770221df40:callback830e32a16bb7d64f94b42bf3db6537770221df40 called with args:(53, 53)\n",
      "DEBUG:Subscriber 830e32a16bb7d64f94b42bf3db6537770221df40:callback830e32a16bb7d64f94b42bf3db6537770221df40 called with args:(54, 54)\n",
      "DEBUG:Subscriber 830e32a16bb7d64f94b42bf3db6537770221df40:callback830e32a16bb7d64f94b42bf3db6537770221df40 called with args:(55, 55)\n",
      "DEBUG:Subscriber 830e32a16bb7d64f94b42bf3db6537770221df40:callback830e32a16bb7d64f94b42bf3db6537770221df40 called with args:(56, 56)\n",
      "DEBUG:Subscriber 830e32a16bb7d64f94b42bf3db6537770221df40:callback830e32a16bb7d64f94b42bf3db6537770221df40 called with args:(57, 57)\n",
      "DEBUG:Subscriber 830e32a16bb7d64f94b42bf3db6537770221df40:callback830e32a16bb7d64f94b42bf3db6537770221df40 called with args:(58, 58)\n",
      "DEBUG:Subscriber 830e32a16bb7d64f94b42bf3db6537770221df40:callback830e32a16bb7d64f94b42bf3db6537770221df40 called with args:(59, 59)\n",
      "DEBUG:Subscriber 830e32a16bb7d64f94b42bf3db6537770221df40:callback830e32a16bb7d64f94b42bf3db6537770221df40 called with args:(60, 60)\n",
      "DEBUG:Subscriber 830e32a16bb7d64f94b42bf3db6537770221df40:callback830e32a16bb7d64f94b42bf3db6537770221df40 called with args:(61, 61)\n"
     ]
    },
    {
     "name": "stderr",
     "output_type": "stream",
     "text": [
      "DEBUG:Subscriber 830e32a16bb7d64f94b42bf3db6537770221df40:callback830e32a16bb7d64f94b42bf3db6537770221df40 called with args:(62, 62)\n",
      "DEBUG:Subscriber 830e32a16bb7d64f94b42bf3db6537770221df40:callback830e32a16bb7d64f94b42bf3db6537770221df40 called with args:(63, 63)\n",
      "DEBUG:Subscriber 830e32a16bb7d64f94b42bf3db6537770221df40:callback830e32a16bb7d64f94b42bf3db6537770221df40 called with args:(64, 64)\n",
      "DEBUG:Subscriber 830e32a16bb7d64f94b42bf3db6537770221df40:callback830e32a16bb7d64f94b42bf3db6537770221df40 called with args:(65, 65)\n",
      "DEBUG:Subscriber 830e32a16bb7d64f94b42bf3db6537770221df40:callback830e32a16bb7d64f94b42bf3db6537770221df40 called with args:(66, 66)\n",
      "DEBUG:Subscriber 830e32a16bb7d64f94b42bf3db6537770221df40:callback830e32a16bb7d64f94b42bf3db6537770221df40 called with args:(67, 67)\n",
      "DEBUG:Subscriber 830e32a16bb7d64f94b42bf3db6537770221df40:callback830e32a16bb7d64f94b42bf3db6537770221df40 called with args:(68, 68)\n",
      "DEBUG:Subscriber 830e32a16bb7d64f94b42bf3db6537770221df40:callback830e32a16bb7d64f94b42bf3db6537770221df40 called with args:(69, 69)\n",
      "DEBUG:Subscriber 830e32a16bb7d64f94b42bf3db6537770221df40:callback830e32a16bb7d64f94b42bf3db6537770221df40 called with args:(70, 70)\n",
      "DEBUG:Subscriber 830e32a16bb7d64f94b42bf3db6537770221df40:callback830e32a16bb7d64f94b42bf3db6537770221df40 called with args:(71, 71)\n",
      "DEBUG:Subscriber 830e32a16bb7d64f94b42bf3db6537770221df40:callback830e32a16bb7d64f94b42bf3db6537770221df40 called with args:(72, 72)\n",
      "DEBUG:Subscriber 830e32a16bb7d64f94b42bf3db6537770221df40:callback830e32a16bb7d64f94b42bf3db6537770221df40 called with args:(73, 73)\n",
      "DEBUG:Subscriber 830e32a16bb7d64f94b42bf3db6537770221df40:callback830e32a16bb7d64f94b42bf3db6537770221df40 called with args:(74, 74)\n",
      "DEBUG:Subscriber 830e32a16bb7d64f94b42bf3db6537770221df40:callback830e32a16bb7d64f94b42bf3db6537770221df40 called with args:(75, 75)\n",
      "DEBUG:Subscriber 830e32a16bb7d64f94b42bf3db6537770221df40:callback830e32a16bb7d64f94b42bf3db6537770221df40 called with args:(76, 76)\n",
      "DEBUG:Subscriber 830e32a16bb7d64f94b42bf3db6537770221df40:callback830e32a16bb7d64f94b42bf3db6537770221df40 called with args:(77, 77)\n",
      "DEBUG:Subscriber 830e32a16bb7d64f94b42bf3db6537770221df40:callback830e32a16bb7d64f94b42bf3db6537770221df40 called with args:(78, 78)\n",
      "DEBUG:Subscriber 830e32a16bb7d64f94b42bf3db6537770221df40:callback830e32a16bb7d64f94b42bf3db6537770221df40 called with args:(79, 79)\n",
      "DEBUG:Subscriber 830e32a16bb7d64f94b42bf3db6537770221df40:callback830e32a16bb7d64f94b42bf3db6537770221df40 called with args:(80, 80)\n",
      "DEBUG:Subscriber 830e32a16bb7d64f94b42bf3db6537770221df40:callback830e32a16bb7d64f94b42bf3db6537770221df40 called with args:(81, 81)\n",
      "DEBUG:Subscriber 830e32a16bb7d64f94b42bf3db6537770221df40:callback830e32a16bb7d64f94b42bf3db6537770221df40 called with args:(82, 82)\n",
      "DEBUG:Subscriber 830e32a16bb7d64f94b42bf3db6537770221df40:callback830e32a16bb7d64f94b42bf3db6537770221df40 called with args:(83, 83)\n",
      "DEBUG:Subscriber 830e32a16bb7d64f94b42bf3db6537770221df40:callback830e32a16bb7d64f94b42bf3db6537770221df40 called with args:(84, 84)\n",
      "DEBUG:Subscriber 830e32a16bb7d64f94b42bf3db6537770221df40:callback830e32a16bb7d64f94b42bf3db6537770221df40 called with args:(85, 85)\n",
      "DEBUG:Subscriber 830e32a16bb7d64f94b42bf3db6537770221df40:callback830e32a16bb7d64f94b42bf3db6537770221df40 called with args:(86, 86)\n",
      "DEBUG:Subscriber 830e32a16bb7d64f94b42bf3db6537770221df40:callback830e32a16bb7d64f94b42bf3db6537770221df40 called with args:(87, 87)\n",
      "DEBUG:Subscriber 830e32a16bb7d64f94b42bf3db6537770221df40:callback830e32a16bb7d64f94b42bf3db6537770221df40 called with args:(88, 88)\n",
      "DEBUG:Subscriber 830e32a16bb7d64f94b42bf3db6537770221df40:callback830e32a16bb7d64f94b42bf3db6537770221df40 called with args:(89, 89)\n",
      "DEBUG:Subscriber 830e32a16bb7d64f94b42bf3db6537770221df40:callback830e32a16bb7d64f94b42bf3db6537770221df40 called with args:(90, 90)\n",
      "DEBUG:Subscriber 830e32a16bb7d64f94b42bf3db6537770221df40:callback830e32a16bb7d64f94b42bf3db6537770221df40 called with args:(91, 91)\n",
      "DEBUG:Subscriber 830e32a16bb7d64f94b42bf3db6537770221df40:callback830e32a16bb7d64f94b42bf3db6537770221df40 called with args:(92, 92)\n",
      "DEBUG:Subscriber 830e32a16bb7d64f94b42bf3db6537770221df40:callback830e32a16bb7d64f94b42bf3db6537770221df40 called with args:(93, 93)\n",
      "DEBUG:Subscriber 830e32a16bb7d64f94b42bf3db6537770221df40:callback830e32a16bb7d64f94b42bf3db6537770221df40 called with args:(94, 94)\n",
      "DEBUG:Subscriber 830e32a16bb7d64f94b42bf3db6537770221df40:callback830e32a16bb7d64f94b42bf3db6537770221df40 called with args:(95, 95)\n",
      "DEBUG:Subscriber 830e32a16bb7d64f94b42bf3db6537770221df40:callback830e32a16bb7d64f94b42bf3db6537770221df40 called with args:(96, 96)\n",
      "DEBUG:Subscriber 830e32a16bb7d64f94b42bf3db6537770221df40:callback830e32a16bb7d64f94b42bf3db6537770221df40 called with args:(97, 97)\n",
      "DEBUG:Subscriber 830e32a16bb7d64f94b42bf3db6537770221df40:callback830e32a16bb7d64f94b42bf3db6537770221df40 called with args:(98, 98)\n",
      "DEBUG:Subscriber 830e32a16bb7d64f94b42bf3db6537770221df40:callback830e32a16bb7d64f94b42bf3db6537770221df40 called with args:(99, 99)\n"
     ]
    }
   ],
   "source": [
    "for x in range(100):\n",
    "    y = x\n",
    "    dataSet.add_result({\"x\":x, \"y\":y})"
   ]
  },
  {
   "cell_type": "code",
   "execution_count": 11,
   "metadata": {},
   "outputs": [
    {
     "name": "stderr",
     "output_type": "stream",
     "text": [
      "DEBUG:Subscriber 830e32a16bb7d64f94b42bf3db6537770221df40:Done callback\n"
     ]
    }
   ],
   "source": [
    "dataSet.mark_complete()"
   ]
  },
  {
   "cell_type": "code",
   "execution_count": 12,
   "metadata": {},
   "outputs": [
    {
     "name": "stderr",
     "output_type": "stream",
     "text": [
      "DEBUG:Subscriber 830e32a16bb7d64f94b42bf3db6537770221df40:Scheduling stop\n"
     ]
    }
   ],
   "source": [
    "s.schedule_stop()"
   ]
  },
  {
   "cell_type": "code",
   "execution_count": 13,
   "metadata": {},
   "outputs": [
    {
     "name": "stderr",
     "output_type": "stream",
     "text": [
      "DEBUG:Subscriber 427168432211a604e0a0d87283e157e423acaaa8:Starting subscriber\n"
     ]
    }
   ],
   "source": [
    "# add another sub just to show that un subscribing will actually stop this one \n",
    "sub_id = dataSet.subscribe(print_all, min_wait=0, min_count=20, state={\"name\":dataSet.name})"
   ]
  },
  {
   "cell_type": "code",
   "execution_count": 14,
   "metadata": {},
   "outputs": [
    {
     "name": "stderr",
     "output_type": "stream",
     "text": [
      "DEBUG:Subscriber 427168432211a604e0a0d87283e157e423acaaa8:Scheduling stop\n"
     ]
    }
   ],
   "source": [
    "dataSet.unsubscribe_all()"
   ]
  }
 ],
 "metadata": {
  "kernelspec": {
   "display_name": "Python 3",
   "language": "python",
   "name": "python3"
  },
  "language_info": {
   "codemirror_mode": {
    "name": "ipython",
    "version": 3
   },
   "file_extension": ".py",
   "mimetype": "text/x-python",
   "name": "python",
   "nbconvert_exporter": "python",
   "pygments_lexer": "ipython3",
   "version": "3.6.1"
  }
 },
 "nbformat": 4,
 "nbformat_minor": 2
}
