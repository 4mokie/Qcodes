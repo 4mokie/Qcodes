{
 "cells": [
  {
   "cell_type": "code",
   "execution_count": 1,
   "metadata": {},
   "outputs": [
    {
     "name": "stdout",
     "output_type": "stream",
     "text": [
      "pyqtgraph plotting not supported, try \"from qcodes.plots.pyqtgraph import QtPlot\" to see the full error\n"
     ]
    }
   ],
   "source": [
    "%matplotlib notebook\n",
    "import matplotlib.pyplot as plt\n",
    "import qcodes as qc\n",
    "from qcodes import ParamSpec, new_data_set, new_experiment"
   ]
  },
  {
   "cell_type": "markdown",
   "metadata": {},
   "source": [
    "# Experiment container and datasets\n",
    "\n",
    "Once qcodes is imported we check if the database exists if not we create one and make sure the schema matches."
   ]
  },
  {
   "cell_type": "code",
   "execution_count": 2,
   "metadata": {},
   "outputs": [
    {
     "data": {
      "text/plain": [
       "'./experiments.db'"
      ]
     },
     "execution_count": 2,
     "metadata": {},
     "output_type": "execute_result"
    }
   ],
   "source": [
    "qc.config.core.db_location"
   ]
  },
  {
   "cell_type": "markdown",
   "metadata": {},
   "source": [
    "everything is configurable.\n",
    "\n",
    "One .db file contains MANY experiments and MANY datasets."
   ]
  },
  {
   "cell_type": "markdown",
   "metadata": {},
   "source": [
    "## Experiments"
   ]
  },
  {
   "cell_type": "markdown",
   "metadata": {},
   "source": [
    "We start wihtout experiments if the .db file is empty. A data set can't exist without an experiment!"
   ]
  },
  {
   "cell_type": "code",
   "execution_count": 3,
   "metadata": {},
   "outputs": [],
   "source": [
    "dataSet = new_data_set(\"sweep gate\")"
   ]
  },
  {
   "cell_type": "markdown",
   "metadata": {},
   "source": [
    "We may decide that if there are no experiment we create a default one.\n",
    "\n",
    "But for now, let's create an experiment."
   ]
  },
  {
   "cell_type": "code",
   "execution_count": 4,
   "metadata": {},
   "outputs": [
    {
     "data": {
      "text/plain": [
       "majorana-qbuit#flying brdige#4@./experiments.db\n",
       "-----------------------------------------------"
      ]
     },
     "execution_count": 4,
     "metadata": {},
     "output_type": "execute_result"
    }
   ],
   "source": [
    "exp = new_experiment(\"majorana-qbuit\", sample_name=\"flying brdige\")\n",
    "exp"
   ]
  },
  {
   "cell_type": "markdown",
   "metadata": {},
   "source": [
    "Now we can create a dataset. Note two things:\n",
    "\n",
    "    - if we don't specfiy a exp_id, but we have an experiment in the experiment container the dataset will go into that one.\n",
    "    - dataset can be created from the experiment object\n",
    "    "
   ]
  },
  {
   "cell_type": "code",
   "execution_count": 5,
   "metadata": {},
   "outputs": [
    {
     "data": {
      "text/plain": [
       "majorana-qbuit#flying brdige#4@./experiments.db\n",
       "-----------------------------------------------\n",
       "71-sweep gate-1-None-0"
      ]
     },
     "execution_count": 5,
     "metadata": {},
     "output_type": "execute_result"
    }
   ],
   "source": [
    "dataSet = new_data_set(\"sweep gate\")\n",
    "exp"
   ]
  },
  {
   "cell_type": "code",
   "execution_count": 6,
   "metadata": {},
   "outputs": [],
   "source": [
    "data_set = exp.new_data_set(\"sweep gate\")"
   ]
  },
  {
   "cell_type": "markdown",
   "metadata": {},
   "source": [
    "These datasets are grim wihtout parameters"
   ]
  },
  {
   "cell_type": "code",
   "execution_count": 7,
   "metadata": {},
   "outputs": [],
   "source": [
    "parameter_a = ParamSpec(\"a\", \"numeric\")\n",
    "# metadata with key=\"value\", and number=1\n",
    "parameter_b = ParamSpec(\"b\", \"numeric\", key=\"value\", number=1)\n",
    "# cann add new parameter: an array\n",
    "parameter_c = ParamSpec(\"c\", \"array\")"
   ]
  },
  {
   "cell_type": "code",
   "execution_count": 8,
   "metadata": {},
   "outputs": [],
   "source": [
    "dataSet.add_parameter(parameter_a)\n",
    "dataSet.add_parameter(parameter_b)\n",
    "dataSet.add_parameter(parameter_c)"
   ]
  },
  {
   "cell_type": "code",
   "execution_count": 9,
   "metadata": {},
   "outputs": [
    {
     "data": {
      "text/plain": [
       "sweep gate #71@./experiments.db\n",
       "-------------------------------\n",
       "a - numeric\n",
       "b - numeric\n",
       "c - array"
      ]
     },
     "execution_count": 9,
     "metadata": {},
     "output_type": "execute_result"
    }
   ],
   "source": [
    "dataSet"
   ]
  },
  {
   "cell_type": "code",
   "execution_count": 10,
   "metadata": {},
   "outputs": [
    {
     "data": {
      "text/plain": [
       "1"
      ]
     },
     "execution_count": 10,
     "metadata": {},
     "output_type": "execute_result"
    }
   ],
   "source": [
    "dataSet.add_result({\"a\":1})"
   ]
  },
  {
   "cell_type": "code",
   "execution_count": 11,
   "metadata": {},
   "outputs": [
    {
     "data": {
      "text/plain": [
       "[[1]]"
      ]
     },
     "execution_count": 11,
     "metadata": {},
     "output_type": "execute_result"
    }
   ],
   "source": [
    "dataSet.get_data(\"a\")"
   ]
  },
  {
   "cell_type": "code",
   "execution_count": 12,
   "metadata": {},
   "outputs": [
    {
     "data": {
      "text/plain": [
       "majorana-qbuit#flying brdige#4@./experiments.db\n",
       "-----------------------------------------------\n",
       "71-sweep gate-1-a,b,c-1\n",
       "72-sweep gate-2-None-0"
      ]
     },
     "execution_count": 12,
     "metadata": {},
     "output_type": "execute_result"
    }
   ],
   "source": [
    "exp"
   ]
  },
  {
   "cell_type": "markdown",
   "metadata": {
    "collapsed": true
   },
   "source": [
    "## x-y loop example"
   ]
  },
  {
   "cell_type": "code",
   "execution_count": 13,
   "metadata": {},
   "outputs": [],
   "source": [
    "dataSet = new_data_set(\"test\", specs=[ParamSpec(\"x\", \"numeric\"), ParamSpec(\"y\", \"numeric\")], metadata={\"so\":\"meta\"})"
   ]
  },
  {
   "cell_type": "code",
   "execution_count": 14,
   "metadata": {},
   "outputs": [
    {
     "data": {
      "text/plain": [
       "4"
      ]
     },
     "execution_count": 14,
     "metadata": {},
     "output_type": "execute_result"
    }
   ],
   "source": [
    "dataSet.exp_id"
   ]
  },
  {
   "cell_type": "code",
   "execution_count": 15,
   "metadata": {},
   "outputs": [],
   "source": [
    "dataSet.add_metadata(\"more\", \"meta\")"
   ]
  },
  {
   "cell_type": "code",
   "execution_count": 16,
   "metadata": {},
   "outputs": [],
   "source": [
    "for x in range(100):\n",
    "    y = 3*x + 10\n",
    "    dataSet.add_result({\"x\":x, \"y\":y})"
   ]
  },
  {
   "cell_type": "code",
   "execution_count": 17,
   "metadata": {},
   "outputs": [
    {
     "data": {
      "text/plain": [
       "<IPython.core.display.Javascript object>"
      ]
     },
     "metadata": {},
     "output_type": "display_data"
    },
    {
     "data": {
      "text/html": [
       "<img src=\"data:image/png;base64,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\" width=\"640\">"
      ],
      "text/plain": [
       "<IPython.core.display.HTML object>"
      ]
     },
     "metadata": {},
     "output_type": "execute_result"
    },
    {
     "data": {
      "text/plain": [
       "[<matplotlib.lines.Line2D at 0x10f0c8dd8>]"
      ]
     },
     "execution_count": 17,
     "metadata": {},
     "output_type": "execute_result"
    }
   ],
   "source": [
    "fig, ax = plt.subplots(1,1)\n",
    "ax.plot(dataSet.get_data(\"x\") , dataSet.get_data(\"y\"))\n",
    "ax.plot(dataSet.get_data(\"x\", start=10) , dataSet.get_data(\"y\", start=10))\n",
    "ax.plot(dataSet.get_data(\"x\", start=20, end=30) , dataSet.get_data(\"y\", start=20, end=30))"
   ]
  },
  {
   "cell_type": "markdown",
   "metadata": {
    "collapsed": true
   },
   "source": [
    "## x-y (array) loop example"
   ]
  },
  {
   "cell_type": "code",
   "execution_count": 18,
   "metadata": {},
   "outputs": [],
   "source": [
    "import numpy as np"
   ]
  },
  {
   "cell_type": "code",
   "execution_count": 19,
   "metadata": {},
   "outputs": [],
   "source": [
    "dataSet = new_data_set(\"test\", specs=[ParamSpec(\"x\", \"numeric\"), ParamSpec(\"y\", \"array\")])"
   ]
  },
  {
   "cell_type": "code",
   "execution_count": 20,
   "metadata": {},
   "outputs": [],
   "source": [
    "for x in range(100):\n",
    "    dataSet.add_result({\"x\":x, \"y\":np.random.random_sample(10)})"
   ]
  },
  {
   "cell_type": "code",
   "execution_count": 21,
   "metadata": {},
   "outputs": [
    {
     "data": {
      "text/plain": [
       "<IPython.core.display.Javascript object>"
      ]
     },
     "metadata": {},
     "output_type": "display_data"
    },
    {
     "data": {
      "text/html": [
       "<img src=\"data:image/png;base64,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\" width=\"640\">"
      ],
      "text/plain": [
       "<IPython.core.display.HTML object>"
      ]
     },
     "metadata": {},
     "output_type": "execute_result"
    },
    {
     "data": {
      "text/plain": [
       "<matplotlib.image.AxesImage at 0x114eb1cc0>"
      ]
     },
     "execution_count": 21,
     "metadata": {},
     "output_type": "execute_result"
    }
   ],
   "source": [
    "fig, ax = plt.subplots(1,1)\n",
    "ax.imshow(np.concatenate(dataSet.get_data(\"y\")))"
   ]
  },
  {
   "cell_type": "code",
   "execution_count": null,
   "metadata": {
    "collapsed": true
   },
   "outputs": [],
   "source": []
  }
 ],
 "metadata": {
  "kernelspec": {
   "display_name": "Python 3",
   "language": "python",
   "name": "python3"
  },
  "language_info": {
   "codemirror_mode": {
    "name": "ipython",
    "version": 3
   },
   "file_extension": ".py",
   "mimetype": "text/x-python",
   "name": "python",
   "nbconvert_exporter": "python",
   "pygments_lexer": "ipython3",
   "version": "3.6.7"
  }
 },
 "nbformat": 4,
 "nbformat_minor": 2
}
